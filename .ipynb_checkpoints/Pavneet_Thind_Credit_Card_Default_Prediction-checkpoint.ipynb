{
 "cells": [
  {
   "cell_type": "code",
   "execution_count": null,
   "id": "66392e7f-ebb4-4f6e-a7bb-41bf0b048435",
   "metadata": {},
   "outputs": [],
   "source": [
    "import pandas as pd\n",
    "import numpy as np\n",
    "import seaborn as sns\n",
    "from numpy import math\n",
    "import matplotlib.pyplot as plt \n",
    "\n",
    "import warnings\n",
    "warnings.filterwarnings('ignore')"
   ]
  },
  {
   "cell_type": "code",
   "execution_count": null,
   "id": "271df19a-ccac-46da-8e2b-1cb65d91643b",
   "metadata": {},
   "outputs": [],
   "source": [
    "pip install xlrd"
   ]
  },
  {
   "cell_type": "code",
   "execution_count": null,
   "id": "122e1b11-6367-465f-90df-f28080b039a1",
   "metadata": {},
   "outputs": [],
   "source": [
    "df = pd.read_excel('/Users/pavneet/Desktop/CREDIT CARD FAULT DETECTION /CREDIT CARD PROJECT /default of credit card clients.xls', header=1)"
   ]
  },
  {
   "cell_type": "code",
   "execution_count": null,
   "id": "d16da6e2-a257-4cad-93af-0104bb765e03",
   "metadata": {},
   "outputs": [],
   "source": [
    "df.head()"
   ]
  },
  {
   "cell_type": "code",
   "execution_count": null,
   "id": "350f75a0-ab7b-4b29-acee-5906a5a3d2c4",
   "metadata": {},
   "outputs": [],
   "source": [
    "df.info()"
   ]
  },
  {
   "cell_type": "code",
   "execution_count": null,
   "id": "962f5afc-e3e7-431d-8ca6-e887c0e743c6",
   "metadata": {},
   "outputs": [],
   "source": [
    "df.describe().T"
   ]
  },
  {
   "cell_type": "code",
   "execution_count": null,
   "id": "07b35661-140f-40c8-b1dc-35b498a854c6",
   "metadata": {},
   "outputs": [],
   "source": [
    "len(df[df.duplicated()])"
   ]
  },
  {
   "cell_type": "code",
   "execution_count": null,
   "id": "1dab2f26-dd1f-4827-9c7d-9d0b6a31a207",
   "metadata": {},
   "outputs": [],
   "source": [
    "df.columns"
   ]
  },
  {
   "cell_type": "code",
   "execution_count": null,
   "id": "5ff7f511-e0f5-4620-9ac5-882811fda7a5",
   "metadata": {},
   "outputs": [],
   "source": [
    "df.isnull().sum()"
   ]
  },
  {
   "cell_type": "code",
   "execution_count": null,
   "id": "e915a2aa-c128-4d56-b7ca-4a1ca9023c3b",
   "metadata": {},
   "outputs": [],
   "source": [
    "plt.figure(figsize=(14,5))\n",
    "sns.heatmap(df.isnull(), cbar=True, yticklabels=False )\n",
    "plt.title(\"Missing Values Percentage\")"
   ]
  },
  {
   "cell_type": "code",
   "execution_count": null,
   "id": "2e479fe6-9f5a-4cc2-96a6-2df6c298bd88",
   "metadata": {},
   "outputs": [],
   "source": [
    "df.rename(columns={'default payment next month' : 'IsDefaulter'}, inplace=True)\n",
    "df.rename(columns={'PAY_0':'PAY_SEPT','PAY_2':'PAY_AUG','PAY_3':'PAY_JUL','PAY_4':'PAY_JUN','PAY_5':'PAY_MAY','PAY_6':'PAY_APR'},inplace=True)\n",
    "df.rename(columns={'BILL_AMT1':'BILL_AMT_SEPT','BILL_AMT2':'BILL_AMT_AUG','BILL_AMT3':'BILL_AMT_JUL','BILL_AMT4':'BILL_AMT_JUN','BILL_AMT5':'BILL_AMT_MAY','BILL_AMT6':'BILL_AMT_APR'}, inplace = True)\n",
    "df.rename(columns={'PAY_AMT1':'PAY_AMT_SEPT','PAY_AMT2':'PAY_AMT_AUG','PAY_AMT3':'PAY_AMT_JUL','PAY_AMT4':'PAY_AMT_JUN','PAY_AMT5':'PAY_AMT_MAY','PAY_AMT6':'PAY_AMT_APR'},inplace=True)"
   ]
  },
  {
   "cell_type": "code",
   "execution_count": null,
   "id": "b7667167-934c-4b3b-bfce-b8fa15010744",
   "metadata": {},
   "outputs": [],
   "source": [
    "df.head()"
   ]
  },
  {
   "cell_type": "code",
   "execution_count": null,
   "id": "42c52a8d-4687-4c02-b4b1-83014b3f0aff",
   "metadata": {},
   "outputs": [],
   "source": [
    "df.replace({'SEX': {1 : 'Male', 2 : 'Female'}}, inplace=True)\n",
    "df.replace({'EDUCATION' : {1 : 'Graduate School', 2 : 'University', 3 : 'High School', 4 : 'Others'}}, inplace=True)\n",
    "df.replace({'MARRIAGE' : {1 : 'Married', 2 : 'Single', 3 : 'Others'}}, inplace = True)\n",
    "df.replace({'IsDefaulter' : {1 : 'Yes', 0 : 'No'}}, inplace = True)"
   ]
  },
  {
   "cell_type": "code",
   "execution_count": null,
   "id": "a540b018-1da4-4242-b61f-c2e57fd9a412",
   "metadata": {},
   "outputs": [],
   "source": [
    "df.head()"
   ]
  },
  {
   "cell_type": "code",
   "execution_count": null,
   "id": "34c3069b-9317-4b46-9ac2-0dd420d60d08",
   "metadata": {},
   "outputs": [],
   "source": [
    "print(df.columns.tolist())"
   ]
  },
  {
   "cell_type": "code",
   "execution_count": null,
   "id": "f54154d0-021a-4ebc-8d53-57bdf8d42201",
   "metadata": {},
   "outputs": [],
   "source": [
    "df['IsDefaulter'].value_counts()"
   ]
  },
  {
   "cell_type": "code",
   "execution_count": null,
   "id": "eabc28f9-4583-4add-addd-a21137e1e710",
   "metadata": {},
   "outputs": [],
   "source": [
    "plt.figure(figsize=(6,5))\n",
    "sns.countplot(x = 'IsDefaulter', data = df)"
   ]
  },
  {
   "cell_type": "markdown",
   "id": "999008df-e902-4426-a00b-90e8d2822549",
   "metadata": {},
   "source": [
    "SEX"
   ]
  },
  {
   "cell_type": "code",
   "execution_count": null,
   "id": "9fefcfb6-8edf-4613-8268-fd76604b81ca",
   "metadata": {},
   "outputs": [],
   "source": [
    "df['SEX'].value_counts()"
   ]
  },
  {
   "cell_type": "code",
   "execution_count": null,
   "id": "26438cbe-89cf-40c9-9873-3e46362268ab",
   "metadata": {},
   "outputs": [],
   "source": [
    "fig, axes = plt.subplots(ncols=2,figsize=(10,5))\n",
    "sns.countplot(x = 'SEX', ax = axes[0], data = df)\n",
    "sns.countplot(x = 'SEX', hue = 'IsDefaulter',ax = axes[1], data = df)"
   ]
  },
  {
   "cell_type": "code",
   "execution_count": null,
   "id": "fbe32f8f-744c-4dcb-8b31-8fb93f4c8323",
   "metadata": {},
   "outputs": [],
   "source": [
    "fil = (df['EDUCATION'] == 0) | (df['EDUCATION'] == 5) | (df['EDUCATION'] == 6) | (df['EDUCATION'] == 4)\n",
    "df.loc[fil, 'EDUCATION'] = 'Others'"
   ]
  },
  {
   "cell_type": "code",
   "execution_count": null,
   "id": "b5051ac4-a8de-4e0d-be30-70a7595d3d41",
   "metadata": {},
   "outputs": [],
   "source": [
    "df['EDUCATION'].value_counts()"
   ]
  },
  {
   "cell_type": "code",
   "execution_count": null,
   "id": "ee471344-f509-4129-bf37-da59a43999a9",
   "metadata": {},
   "outputs": [],
   "source": [
    "fig, axes = plt.subplots(ncols=2,figsize=(18,5))\n",
    "sns.countplot(x = 'EDUCATION', ax = axes[0], data = df)\n",
    "sns.countplot(x = 'EDUCATION', hue = 'IsDefaulter',ax = axes[1], data = df)"
   ]
  },
  {
   "cell_type": "code",
   "execution_count": null,
   "id": "118dd039-6774-4268-abde-31bc5aa51243",
   "metadata": {},
   "outputs": [],
   "source": [
    "fil = df['MARRIAGE']==0\n",
    "df.loc[fil,'MARRIAGE'] = 'Others'\n",
    "df['MARRIAGE'].value_counts()"
   ]
  },
  {
   "cell_type": "code",
   "execution_count": null,
   "id": "fc2d603c-4cf1-47f5-9488-cbc13f1348be",
   "metadata": {},
   "outputs": [],
   "source": [
    "fig, axes = plt.subplots(ncols=2,figsize=(10,5))\n",
    "sns.countplot(x = 'MARRIAGE', ax = axes[0], data = df)\n",
    "sns.countplot(x = 'MARRIAGE', hue = 'IsDefaulter',ax = axes[1], data = df)"
   ]
  },
  {
   "cell_type": "code",
   "execution_count": null,
   "id": "3349b7e1-626d-4d2d-8767-4473426d6475",
   "metadata": {},
   "outputs": [],
   "source": [
    "df['AGE'].value_counts()"
   ]
  },
  {
   "cell_type": "code",
   "execution_count": null,
   "id": "8f687a7a-5b6d-41ef-8146-1328c42de1f6",
   "metadata": {},
   "outputs": [],
   "source": [
    "plt.figure(figsize=(20,8))\n",
    "sns.countplot(x = 'AGE', data = df)"
   ]
  },
  {
   "cell_type": "code",
   "execution_count": null,
   "id": "8bd2d381-dd63-4432-8864-823f26b68e80",
   "metadata": {},
   "outputs": [],
   "source": [
    "plt.figure(figsize=(20,8))\n",
    "sns.countplot(x = 'AGE', hue = 'IsDefaulter', data = df)"
   ]
  },
  {
   "cell_type": "code",
   "execution_count": null,
   "id": "93dd8c83-4509-444c-abc5-3cb1ce7f3a1d",
   "metadata": {},
   "outputs": [],
   "source": [
    "\n",
    "\n",
    "plt.figure(figsize=(20, 18))\n",
    "sns.heatmap(numeric_df.corr(), annot=True, cmap=\"coolwarm\")\n",
    "plt.title(\"Correlation Heatmap\")\n",
    "plt.show()"
   ]
  },
  {
   "cell_type": "code",
   "execution_count": null,
   "id": "26623a47-21d8-40e3-a7d1-7b60576ea3ac",
   "metadata": {},
   "outputs": [],
   "source": [
    "df.shape"
   ]
  },
  {
   "cell_type": "code",
   "execution_count": null,
   "id": "1d99bf0a-1775-4c97-a696-40dfcc4cec6d",
   "metadata": {},
   "outputs": [],
   "source": [
    "encode_num = {\"SEX\":{\"Female\":0,\"Male\":1}, \"IsDefaulter\":{\"Yes\":1,\"No\":0}}\n",
    "df=df.replace(encode_num)"
   ]
  },
  {
   "cell_type": "code",
   "execution_count": null,
   "id": "fe31dcbc-4cdd-4f48-ac0c-c977bfeca215",
   "metadata": {},
   "outputs": [],
   "source": [
    "df.head()"
   ]
  },
  {
   "cell_type": "code",
   "execution_count": null,
   "id": "6a1ccab2-ee57-4615-a346-a9fced8fb3d8",
   "metadata": {},
   "outputs": [],
   "source": [
    "df = pd.get_dummies(df, columns=['EDUCATION','MARRIAGE']) "
   ]
  },
  {
   "cell_type": "code",
   "execution_count": null,
   "id": "4187db08-78dd-41e7-8c9f-4bd3569a8a03",
   "metadata": {},
   "outputs": [],
   "source": [
    "df.shape"
   ]
  },
  {
   "cell_type": "code",
   "execution_count": null,
   "id": "0bbc2c4b-a853-4f22-a609-cfc3bf81cfdb",
   "metadata": {},
   "outputs": [],
   "source": [
    "df.drop(['EDUCATION_Others', 'MARRIAGE_Others'], axis=1, inplace=True)"
   ]
  },
  {
   "cell_type": "code",
   "execution_count": null,
   "id": "cfe955e3-68b1-4887-9b90-49b2830e8daf",
   "metadata": {},
   "outputs": [],
   "source": [
    "df.shape"
   ]
  },
  {
   "cell_type": "code",
   "execution_count": null,
   "id": "5f0aac91-75f1-4458-8c88-dac88f7987ad",
   "metadata": {},
   "outputs": [],
   "source": [
    "df = pd.get_dummies(df, columns=['PAY_SEPT', 'PAY_AUG', 'PAY_JUL', 'PAY_JUN', 'PAY_MAY', 'PAY_APR'], drop_first = True )\n"
   ]
  },
  {
   "cell_type": "code",
   "execution_count": null,
   "id": "663d5135-e20b-4549-9b12-6f9f46f40748",
   "metadata": {},
   "outputs": [],
   "source": [
    "df.shape"
   ]
  },
  {
   "cell_type": "code",
   "execution_count": null,
   "id": "8f452077-52ef-48fa-b00b-63c0c835c904",
   "metadata": {},
   "outputs": [],
   "source": [
    "df.head()"
   ]
  },
  {
   "cell_type": "code",
   "execution_count": null,
   "id": "f61fec42-c9c4-4433-8e81-3b9a24212e49",
   "metadata": {},
   "outputs": [],
   "source": [
    "df.shape"
   ]
  },
  {
   "cell_type": "code",
   "execution_count": null,
   "id": "73440f88-73a3-46b9-822a-cb176a647e00",
   "metadata": {},
   "outputs": [],
   "source": [
    "from imblearn.over_sampling import SMOTE\n",
    "\n",
    "smote = SMOTE()\n",
    "\n",
    "# fit predictor and target variable\n",
    "x_smote, y_smote = smote.fit_resample(df[(i for i in list(df.describe(include='all').columns) if i != 'IsDefaulter')], df['IsDefaulter'])\n",
    "\n",
    "print('Original unbalanced dataset shape', len(df))\n",
    "print('Resampled balanced dataset shape', len(y_smote))"
   ]
  },
  {
   "cell_type": "code",
   "execution_count": null,
   "id": "044a299f-182f-4c7d-893e-a5adeffdc87b",
   "metadata": {},
   "outputs": [],
   "source": [
    "balanced_df = pd.DataFrame(x_smote, columns=list(i for i in list(df.describe(include='all').columns) if i != 'IsDefaulter'))\n",
    "balanced_df.shape"
   ]
  },
  {
   "cell_type": "code",
   "execution_count": null,
   "id": "b39bbb1c-e56c-450d-80f5-96da16b2a675",
   "metadata": {},
   "outputs": [],
   "source": [
    "balanced_df['IsDefaulter'] = y_smote"
   ]
  },
  {
   "cell_type": "code",
   "execution_count": null,
   "id": "700b6a67-17ec-461b-8cd0-08d1e43e6dfe",
   "metadata": {},
   "outputs": [],
   "source": [
    "balanced_df.shape"
   ]
  },
  {
   "cell_type": "code",
   "execution_count": null,
   "id": "531df55d-d9ea-4e59-a9a0-b65e86e32a8c",
   "metadata": {},
   "outputs": [],
   "source": [
    "plt.figure(figsize=(5,5))\n",
    "sns.countplot('IsDefaulter', data = balanced_df, palette = \"Set1\" )"
   ]
  },
  {
   "cell_type": "code",
   "execution_count": null,
   "id": "a3d4821c-f58b-4f02-84e9-e8e461ef71b5",
   "metadata": {},
   "outputs": [],
   "source": [
    "balanced_df.drop('ID',axis = 1, inplace = True)"
   ]
  },
  {
   "cell_type": "code",
   "execution_count": null,
   "id": "d9c9fa5f-9e54-40a8-98a9-e94bda4ed74c",
   "metadata": {},
   "outputs": [],
   "source": [
    "balanced_df.head()"
   ]
  },
  {
   "cell_type": "code",
   "execution_count": null,
   "id": "098694a5-85ec-41b2-aed1-86d4f8e11daf",
   "metadata": {},
   "outputs": [],
   "source": [
    "X = balanced_df[(list(i for i in list(balanced_df.describe(include='all').columns) if i != 'IsDefaulter'))]\n",
    "y = balanced_df['IsDefaulter']"
   ]
  },
  {
   "cell_type": "code",
   "execution_count": null,
   "id": "d2ca38f3-2199-4e3b-96db-b7bad4e4dc1a",
   "metadata": {},
   "outputs": [],
   "source": [
    "X.shape"
   ]
  },
  {
   "cell_type": "code",
   "execution_count": null,
   "id": "7a260a9e-3e7c-4756-9c69-da63754e249b",
   "metadata": {},
   "outputs": [],
   "source": [
    "y.shape"
   ]
  },
  {
   "cell_type": "code",
   "execution_count": null,
   "id": "13abce66-32a1-4623-81b8-1ecd4f209fdd",
   "metadata": {},
   "outputs": [],
   "source": [
    "from sklearn.preprocessing import StandardScaler\n",
    "scaler = StandardScaler()\n",
    "X = scaler.fit_transform(X)"
   ]
  },
  {
   "cell_type": "code",
   "execution_count": null,
   "id": "d0a777ce-53e0-4b14-8896-3d9e08a368b6",
   "metadata": {},
   "outputs": [],
   "source": [
    "from sklearn.model_selection import train_test_split\n",
    "X_train, X_test, y_train, y_test = train_test_split(X, y, test_size=0.2,random_state=42, stratify=y)"
   ]
  },
  {
   "cell_type": "code",
   "execution_count": null,
   "id": "7a03d0e1-76d5-4326-96a3-75b719c6cfb9",
   "metadata": {},
   "outputs": [],
   "source": [
    "X_train.shape"
   ]
  },
  {
   "cell_type": "code",
   "execution_count": null,
   "id": "462beb7a-e9d4-465d-8e12-21f3fa3c186e",
   "metadata": {},
   "outputs": [],
   "source": [
    "X_test.shape"
   ]
  },
  {
   "cell_type": "code",
   "execution_count": null,
   "id": "dc77641c-e835-42b1-a1f2-e38813109550",
   "metadata": {},
   "outputs": [],
   "source": [
    "#MODEL IMPLEMENTATION"
   ]
  },
  {
   "cell_type": "code",
   "execution_count": null,
   "id": "73bad01d-1e63-4d5b-8359-212c3e24ec43",
   "metadata": {},
   "outputs": [],
   "source": [
    "#LOGISTIC REGRESSION"
   ]
  },
  {
   "cell_type": "code",
   "execution_count": null,
   "id": "591c7eba-240f-4fea-bdf7-53bff2ce25b9",
   "metadata": {},
   "outputs": [],
   "source": [
    "from sklearn.linear_model import LogisticRegression\n",
    "from sklearn.metrics import accuracy_score, recall_score, precision_score, f1_score, roc_auc_score, confusion_matrix, roc_curve, auc\n"
   ]
  },
  {
   "cell_type": "code",
   "execution_count": null,
   "id": "e42d0f67-ef1c-494b-ad85-f58c34133d21",
   "metadata": {},
   "outputs": [],
   "source": [
    "logi = LogisticRegression(fit_intercept=True, max_iter=10000)\n",
    "logi.fit(X_train, y_train)"
   ]
  },
  {
   "cell_type": "code",
   "execution_count": null,
   "id": "11294766-1f91-4dbb-85c6-6ffe46a2d7c0",
   "metadata": {},
   "outputs": [],
   "source": [
    "y_pred_logi = logi.predict(X_test)\n",
    "y_train_pred_logi=logi.predict(X_train)"
   ]
  },
  {
   "cell_type": "code",
   "execution_count": null,
   "id": "7824f661-695d-458a-b65e-bd7a9b643cbc",
   "metadata": {},
   "outputs": [],
   "source": [
    "train_accuracy_logi = round(accuracy_score(y_train_pred_logi,y_train), 3)\n",
    "accuracy_logi = round(accuracy_score(y_pred_logi,y_test), 3)\n",
    "precision_score_logi = round(precision_score(y_pred_logi,y_test), 3)\n",
    "recall_score_logi = round(recall_score(y_pred_logi,y_test), 3)\n",
    "f1_score_logi = round(f1_score(y_pred_logi,y_test), 3)\n",
    "roc_score_logi = round(roc_auc_score(y_pred_logi,y_test), 3)\n",
    "\n",
    "print(\"The accuracy on train data is \", train_accuracy_logi)\n",
    "print(\"The accuracy on test data is \", accuracy_logi)\n",
    "print(\"The precision on test data is \", precision_score_logi)\n",
    "print(\"The recall on test data is \", recall_score_logi)\n",
    "print(\"The f1 on test data is \", f1_score_logi)\n",
    "print(\"The roc_score on test data is \", roc_score_logi)"
   ]
  },
  {
   "cell_type": "code",
   "execution_count": null,
   "id": "d82c6b43-42ac-406c-8f47-c6be89703d36",
   "metadata": {},
   "outputs": [],
   "source": [
    "labels = ['Not Defaulter', 'Defaulter']\n",
    "cm_logi = confusion_matrix(y_test, y_pred_logi )\n",
    "print(cm_logi)\n",
    "\n",
    "#plot confusion matrix\n",
    "ax= plt.subplot()\n",
    "sns.heatmap(cm_logi, annot=True, ax = ax)\n",
    "\n",
    "# labels, title and ticks\n",
    "ax.set_xlabel('Predicted labels')\n",
    "ax.set_ylabel('True labels')\n",
    "ax.set_title('Confusion Matrix - Logistic Regression')\n",
    "ax.xaxis.set_ticklabels(labels)\n",
    "ax.yaxis.set_ticklabels(labels)"
   ]
  },
  {
   "cell_type": "markdown",
   "id": "616e6c9a-98b7-40c8-a11b-a7e064b71db0",
   "metadata": {},
   "source": [
    "DECISION TREE"
   ]
  },
  {
   "cell_type": "code",
   "execution_count": null,
   "id": "cd589be0-b7a4-40b3-928b-a94b75c48205",
   "metadata": {},
   "outputs": [],
   "source": [
    "from sklearn.tree import DecisionTreeClassifier"
   ]
  },
  {
   "cell_type": "code",
   "execution_count": null,
   "id": "3cb5ae88-5e31-4549-b504-4ba3b5cacc96",
   "metadata": {},
   "outputs": [],
   "source": [
    "dtc = DecisionTreeClassifier()\n",
    "dtc.fit(X_train, y_train)"
   ]
  },
  {
   "cell_type": "code",
   "execution_count": null,
   "id": "db756495-1d0b-4bf9-a78b-6b3a48849d2d",
   "metadata": {},
   "outputs": [],
   "source": [
    "y_pred_dtc = dtc.predict(X_test)\n",
    "y_train_pred_dtc=dtc.predict(X_train)"
   ]
  },
  {
   "cell_type": "code",
   "execution_count": null,
   "id": "48053302-718a-4220-8fcb-755508e34366",
   "metadata": {},
   "outputs": [],
   "source": [
    "train_accuracy_dtc = round(accuracy_score(y_train_pred_dtc,y_train), 3)\n",
    "accuracy_dtc = round(accuracy_score(y_pred_dtc,y_test), 3)\n",
    "precision_score_dtc = round(precision_score(y_pred_dtc,y_test), 3)\n",
    "recall_score_dtc = round(recall_score(y_pred_dtc,y_test), 3)\n",
    "f1_score_dtc = round(f1_score(y_pred_dtc,y_test), 3)\n",
    "roc_score_dtc = round(roc_auc_score(y_pred_dtc,y_test), 3)\n",
    "\n",
    "print(\"The accuracy on train data is \", train_accuracy_dtc)\n",
    "print(\"The accuracy on test data is \", accuracy_dtc)\n",
    "print(\"The precision on test data is \", precision_score_dtc)\n",
    "print(\"The recall on test data is \", recall_score_dtc)\n",
    "print(\"The f1 on test data is \", f1_score_dtc)\n",
    "print(\"The roc_score on test data is \", roc_score_dtc)"
   ]
  },
  {
   "cell_type": "code",
   "execution_count": null,
   "id": "2a99b0ab-279e-4867-9c17-175a30277915",
   "metadata": {},
   "outputs": [],
   "source": [
    "labels = ['Not Defaulter', 'Defaulter']\n",
    "cm_dt = confusion_matrix(y_test, y_pred_dtc )\n",
    "print(cm_dt)\n",
    "\n",
    "#plot confusion matrix\n",
    "ax= plt.subplot()\n",
    "sns.heatmap(cm_dt, annot=True, ax = ax)\n",
    "\n",
    "# labels, title and ticks\n",
    "ax.set_xlabel('Predicted labels')\n",
    "ax.set_ylabel('True labels')\n",
    "ax.set_title('Confusion Matrix - Decision Tree')\n",
    "ax.xaxis.set_ticklabels(labels)\n",
    "ax.yaxis.set_ticklabels(labels)"
   ]
  },
  {
   "cell_type": "markdown",
   "id": "445294cd-8156-41c8-82af-548630e061b0",
   "metadata": {},
   "source": [
    "RANDOM FOREST TREE "
   ]
  },
  {
   "cell_type": "code",
   "execution_count": null,
   "id": "cd671c01-d0c9-4273-abb2-739541b09f9f",
   "metadata": {},
   "outputs": [],
   "source": [
    "from sklearn.ensemble import RandomForestClassifier"
   ]
  },
  {
   "cell_type": "code",
   "execution_count": null,
   "id": "ac113834-e244-4556-b9e7-d03210ec69da",
   "metadata": {},
   "outputs": [],
   "source": [
    "rfc=RandomForestClassifier(n_estimators=50)\n",
    "rfc.fit(X_train, y_train)"
   ]
  },
  {
   "cell_type": "code",
   "execution_count": null,
   "id": "e75ceb98-bf06-428d-8b1f-f4c9193d7d3e",
   "metadata": {},
   "outputs": [],
   "source": [
    "y_pred_rfc=rfc.predict(X_test)\n",
    "y_train_pred_rfc=rfc.predict(X_train)"
   ]
  },
  {
   "cell_type": "code",
   "execution_count": null,
   "id": "00ff4a1b-19d4-480f-aa85-f9dfe0d0be07",
   "metadata": {},
   "outputs": [],
   "source": [
    "train_accuracy_rfc = round(accuracy_score(y_train_pred_rfc,y_train), 3)\n",
    "accuracy_rfc = round(accuracy_score(y_pred_rfc,y_test), 3)\n",
    "precision_score_rfc = round(precision_score(y_pred_rfc,y_test), 3)\n",
    "recall_score_rfc = round(recall_score(y_pred_rfc,y_test), 3)\n",
    "f1_score_rfc = round(f1_score(y_pred_rfc,y_test), 3)\n",
    "roc_score_rfc = round(roc_auc_score(y_pred_rfc,y_test), 3)\n",
    "\n",
    "print(\"The accuracy on train data is \", train_accuracy_rfc)\n",
    "print(\"The accuracy on test data is \", accuracy_rfc)\n",
    "print(\"The precision on test data is \", precision_score_rfc)\n",
    "print(\"The recall on test data is \", recall_score_rfc)\n",
    "print(\"The f1 on test data is \", f1_score_rfc)\n",
    "print(\"The roc_score on test data is \", roc_score_rfc)"
   ]
  },
  {
   "cell_type": "code",
   "execution_count": null,
   "id": "d5afe905-bf90-4873-b78e-257483b16510",
   "metadata": {},
   "outputs": [],
   "source": [
    "labels = ['Not Defaulter', 'Defaulter']\n",
    "cm_rfc = confusion_matrix(y_test, y_pred_rfc )\n",
    "print(cm_rfc)\n",
    "\n",
    "#plot confusion matrix\n",
    "ax= plt.subplot()\n",
    "sns.heatmap(cm_rfc, annot=True, ax = ax)\n",
    "\n",
    "# labels, title and ticks\n",
    "ax.set_xlabel('Predicted labels')\n",
    "ax.set_ylabel('True labels')\n",
    "ax.set_title('Confusion Matrix - Random Forest Classifier')\n",
    "ax.xaxis.set_ticklabels(labels)\n",
    "ax.yaxis.set_ticklabels(labels)"
   ]
  },
  {
   "cell_type": "raw",
   "id": "dfdf65bc-b1e7-4acb-bc00-034e236bc291",
   "metadata": {},
   "source": [
    "GRADIENT BOOSTING "
   ]
  },
  {
   "cell_type": "code",
   "execution_count": null,
   "id": "0f801787-1923-488f-9dd6-57f6995bba27",
   "metadata": {},
   "outputs": [],
   "source": [
    "from sklearn.ensemble import GradientBoostingClassifier"
   ]
  },
  {
   "cell_type": "code",
   "execution_count": null,
   "id": "45941f15-794b-44ed-b5cf-bd48be7d005a",
   "metadata": {},
   "outputs": [],
   "source": [
    "gbc = GradientBoostingClassifier(random_state=42)\n",
    "gbc.fit(X_train, y_train)"
   ]
  },
  {
   "cell_type": "code",
   "execution_count": null,
   "id": "f309577f-6605-4384-8f7a-4018d1448a66",
   "metadata": {},
   "outputs": [],
   "source": [
    "y_pred_gbc=gbc.predict(X_test)\n",
    "y_train_pred_gbc=gbc.predict(X_train)"
   ]
  },
  {
   "cell_type": "code",
   "execution_count": null,
   "id": "973a1c4d-fe90-4294-a0b7-0c6c7fe15b1b",
   "metadata": {},
   "outputs": [],
   "source": [
    "train_accuracy_gbc = round(accuracy_score(y_train_pred_gbc,y_train), 3)\n",
    "accuracy_gbc = round(accuracy_score(y_pred_gbc,y_test), 3)\n",
    "precision_score_gbc = round(precision_score(y_pred_gbc,y_test), 3)\n",
    "recall_score_gbc = round(recall_score(y_pred_gbc,y_test), 3)\n",
    "f1_score_gbc = round(f1_score(y_pred_gbc,y_test), 3)\n",
    "roc_score_gbc = round(roc_auc_score(y_pred_gbc,y_test), 3)\n",
    "\n",
    "print(\"The accuracy on train data is \", train_accuracy_gbc)\n",
    "print(\"The accuracy on test data is \", accuracy_gbc)\n",
    "print(\"The precision on test data is \", precision_score_gbc)\n",
    "print(\"The recall on test data is \", recall_score_gbc)\n",
    "print(\"The f1 on test data is \", f1_score_gbc)\n",
    "print(\"The roc_score on test data is \", roc_score_gbc)"
   ]
  },
  {
   "cell_type": "code",
   "execution_count": null,
   "id": "10468dba-6cc3-4147-9906-d1ea8f183dd0",
   "metadata": {},
   "outputs": [],
   "source": [
    "labels = ['Not Defaulter', 'Defaulter']\n",
    "cm_gbc = confusion_matrix(y_test, y_pred_gbc )\n",
    "print(cm_gbc)\n",
    "\n",
    "#plot confusion matrix\n",
    "ax= plt.subplot()\n",
    "sns.heatmap(cm_gbc, annot=True, ax = ax)\n",
    "\n",
    "# labels, title and ticks\n",
    "ax.set_xlabel('Predicted labels')\n",
    "ax.set_ylabel('True labels')\n",
    "ax.set_title('Confusion Matrix - Gradient Boosting Classifier')\n",
    "ax.xaxis.set_ticklabels(labels)\n",
    "ax.yaxis.set_ticklabels(labels)"
   ]
  },
  {
   "cell_type": "markdown",
   "id": "f0a3f366-8c4f-4fcf-8e4d-3474e4a700a0",
   "metadata": {},
   "source": [
    "SUPPORT VECTOR MACHINE "
   ]
  },
  {
   "cell_type": "code",
   "execution_count": null,
   "id": "57ddff61-24b9-4c28-a7d4-bb53b55b9751",
   "metadata": {},
   "outputs": [],
   "source": [
    "from sklearn.svm import SVC"
   ]
  },
  {
   "cell_type": "code",
   "execution_count": null,
   "id": "728ec71e-d313-49d0-b0ed-223a96e3001e",
   "metadata": {},
   "outputs": [],
   "source": [
    "svm=SVC(probability=True)\n",
    "svm.fit(X_train,y_train)"
   ]
  },
  {
   "cell_type": "code",
   "execution_count": null,
   "id": "507a506f-9d62-49a6-a57d-276da4cd4e17",
   "metadata": {},
   "outputs": [],
   "source": [
    "y_pred_svm=svm.predict(X_test)\n",
    "y_train_pred_svm=svm.predict(X_train)"
   ]
  },
  {
   "cell_type": "code",
   "execution_count": null,
   "id": "6a8fb030-d301-49c5-bb98-114651fde7a0",
   "metadata": {},
   "outputs": [],
   "source": [
    "train_accuracy_svm = round(accuracy_score(y_train_pred_svm,y_train), 3)\n",
    "accuracy_svm = round(accuracy_score(y_pred_svm,y_test), 3)\n",
    "precision_score_svm = round(precision_score(y_pred_svm,y_test), 3)\n",
    "recall_score_svm = round(recall_score(y_pred_svm,y_test), 3)\n",
    "f1_score_svm = round(f1_score(y_pred_svm,y_test), 3)\n",
    "roc_score_svm = round(roc_auc_score(y_pred_svm,y_test), 3)\n",
    "\n",
    "print(\"The accuracy on train data is \", train_accuracy_svm)\n",
    "print(\"The accuracy on test data is \", accuracy_svm)\n",
    "print(\"The precision on test data is \", precision_score_svm)\n",
    "print(\"The recall on test data is \", recall_score_svm)\n",
    "print(\"The f1 on test data is \", f1_score_svm)\n",
    "print(\"The roc_score on test data is \", roc_score_svm)"
   ]
  },
  {
   "cell_type": "code",
   "execution_count": null,
   "id": "74e8fd9d-111a-4f73-9ec9-2d1678c2fda5",
   "metadata": {},
   "outputs": [],
   "source": [
    "labels = ['Not Defaulter', 'Defaulter']\n",
    "cm_svm = confusion_matrix(y_test, y_pred_svm )\n",
    "print(cm_svm)\n",
    "\n",
    "#plot confusion matrix\n",
    "ax= plt.subplot()\n",
    "sns.heatmap(cm_svm, annot=True, ax = ax)\n",
    "\n",
    "# labels, title and ticks\n",
    "ax.set_xlabel('Predicted labels')\n",
    "ax.set_ylabel('True labels')\n",
    "ax.set_title('Confusion Matrix - SVM')\n",
    "ax.xaxis.set_ticklabels(labels)\n",
    "ax.yaxis.set_ticklabels(labels)\n"
   ]
  },
  {
   "cell_type": "code",
   "execution_count": null,
   "id": "9f922e11-136f-45ef-922f-e2f4ac47b6c8",
   "metadata": {},
   "outputs": [],
   "source": []
  }
 ],
 "metadata": {
  "kernelspec": {
   "display_name": "Python [conda env:base] *",
   "language": "python",
   "name": "conda-base-py"
  },
  "language_info": {
   "codemirror_mode": {
    "name": "ipython",
    "version": 3
   },
   "file_extension": ".py",
   "mimetype": "text/x-python",
   "name": "python",
   "nbconvert_exporter": "python",
   "pygments_lexer": "ipython3",
   "version": "3.12.2"
  },
  "widgets": {
   "application/vnd.jupyter.widget-state+json": {
    "state": {},
    "version_major": 2,
    "version_minor": 0
   }
  }
 },
 "nbformat": 4,
 "nbformat_minor": 5
}
